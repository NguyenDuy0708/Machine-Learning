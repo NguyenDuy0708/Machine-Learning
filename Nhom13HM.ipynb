{
 "cells": [
  {
   "cell_type": "code",
   "execution_count": 16,
   "metadata": {},
   "outputs": [],
   "source": [
    "import pandas as pd\n",
    "import numpy as np\n",
    "import joblib\n",
    "import seaborn as sns\n",
    "import matplotlib.pyplot as plt\n",
    "from sklearn.model_selection import train_test_split\n",
    "from sklearn.preprocessing import LabelEncoder\n",
    "from sklearn.neural_network import MLPRegressor\n",
    "from sklearn.linear_model import LinearRegression, Ridge\n",
    "from sklearn.ensemble import StackingRegressor\n",
    "from sklearn.metrics import mean_squared_error, r2_score, confusion_matrix, f1_score, recall_score\n",
    "from sklearn.preprocessing import StandardScaler\n"
   ]
  },
  {
   "cell_type": "code",
   "execution_count": 17,
   "metadata": {},
   "outputs": [
    {
     "name": "stdout",
     "output_type": "stream",
     "text": [
      "(934, 9)\n",
      "Index(['rownames', 'family', 'father', 'mother', 'midparentHeight', 'children',\n",
      "       'childNum', 'gender', 'childHeight'],\n",
      "      dtype='object')\n"
     ]
    },
    {
     "data": {
      "text/html": [
       "<div>\n",
       "<style scoped>\n",
       "    .dataframe tbody tr th:only-of-type {\n",
       "        vertical-align: middle;\n",
       "    }\n",
       "\n",
       "    .dataframe tbody tr th {\n",
       "        vertical-align: top;\n",
       "    }\n",
       "\n",
       "    .dataframe thead th {\n",
       "        text-align: right;\n",
       "    }\n",
       "</style>\n",
       "<table border=\"1\" class=\"dataframe\">\n",
       "  <thead>\n",
       "    <tr style=\"text-align: right;\">\n",
       "      <th></th>\n",
       "      <th>rownames</th>\n",
       "      <th>family</th>\n",
       "      <th>father</th>\n",
       "      <th>mother</th>\n",
       "      <th>midparentHeight</th>\n",
       "      <th>children</th>\n",
       "      <th>childNum</th>\n",
       "      <th>gender</th>\n",
       "      <th>childHeight</th>\n",
       "    </tr>\n",
       "  </thead>\n",
       "  <tbody>\n",
       "    <tr>\n",
       "      <th>0</th>\n",
       "      <td>1</td>\n",
       "      <td>001</td>\n",
       "      <td>78.5</td>\n",
       "      <td>67.0</td>\n",
       "      <td>75.43</td>\n",
       "      <td>4</td>\n",
       "      <td>1</td>\n",
       "      <td>male</td>\n",
       "      <td>73.2</td>\n",
       "    </tr>\n",
       "    <tr>\n",
       "      <th>1</th>\n",
       "      <td>2</td>\n",
       "      <td>001</td>\n",
       "      <td>78.5</td>\n",
       "      <td>67.0</td>\n",
       "      <td>75.43</td>\n",
       "      <td>4</td>\n",
       "      <td>2</td>\n",
       "      <td>female</td>\n",
       "      <td>69.2</td>\n",
       "    </tr>\n",
       "    <tr>\n",
       "      <th>2</th>\n",
       "      <td>3</td>\n",
       "      <td>001</td>\n",
       "      <td>78.5</td>\n",
       "      <td>67.0</td>\n",
       "      <td>75.43</td>\n",
       "      <td>4</td>\n",
       "      <td>3</td>\n",
       "      <td>female</td>\n",
       "      <td>69.0</td>\n",
       "    </tr>\n",
       "    <tr>\n",
       "      <th>3</th>\n",
       "      <td>4</td>\n",
       "      <td>001</td>\n",
       "      <td>78.5</td>\n",
       "      <td>67.0</td>\n",
       "      <td>75.43</td>\n",
       "      <td>4</td>\n",
       "      <td>4</td>\n",
       "      <td>female</td>\n",
       "      <td>69.0</td>\n",
       "    </tr>\n",
       "    <tr>\n",
       "      <th>4</th>\n",
       "      <td>5</td>\n",
       "      <td>002</td>\n",
       "      <td>75.5</td>\n",
       "      <td>66.5</td>\n",
       "      <td>73.66</td>\n",
       "      <td>4</td>\n",
       "      <td>1</td>\n",
       "      <td>male</td>\n",
       "      <td>73.5</td>\n",
       "    </tr>\n",
       "  </tbody>\n",
       "</table>\n",
       "</div>"
      ],
      "text/plain": [
       "   rownames family  father  mother  midparentHeight  children  childNum  \\\n",
       "0         1    001    78.5    67.0            75.43         4         1   \n",
       "1         2    001    78.5    67.0            75.43         4         2   \n",
       "2         3    001    78.5    67.0            75.43         4         3   \n",
       "3         4    001    78.5    67.0            75.43         4         4   \n",
       "4         5    002    75.5    66.5            73.66         4         1   \n",
       "\n",
       "   gender  childHeight  \n",
       "0    male         73.2  \n",
       "1  female         69.2  \n",
       "2  female         69.0  \n",
       "3  female         69.0  \n",
       "4    male         73.5  "
      ]
     },
     "execution_count": 17,
     "metadata": {},
     "output_type": "execute_result"
    }
   ],
   "source": [
    "data=pd.read_csv(\"GaltonFamilies.csv\" )\n",
    "print(data.shape)\n",
    "print(data.columns)\n",
    "data.head()"
   ]
  },
  {
   "cell_type": "markdown",
   "metadata": {},
   "source": [
    "## Tiền xử lý"
   ]
  },
  {
   "cell_type": "code",
   "execution_count": 18,
   "metadata": {},
   "outputs": [
    {
     "data": {
      "text/html": [
       "<div>\n",
       "<style scoped>\n",
       "    .dataframe tbody tr th:only-of-type {\n",
       "        vertical-align: middle;\n",
       "    }\n",
       "\n",
       "    .dataframe tbody tr th {\n",
       "        vertical-align: top;\n",
       "    }\n",
       "\n",
       "    .dataframe thead th {\n",
       "        text-align: right;\n",
       "    }\n",
       "</style>\n",
       "<table border=\"1\" class=\"dataframe\">\n",
       "  <thead>\n",
       "    <tr style=\"text-align: right;\">\n",
       "      <th></th>\n",
       "      <th>father</th>\n",
       "      <th>mother</th>\n",
       "      <th>midparentHeight</th>\n",
       "      <th>children</th>\n",
       "      <th>gender</th>\n",
       "      <th>childHeight</th>\n",
       "    </tr>\n",
       "  </thead>\n",
       "  <tbody>\n",
       "    <tr>\n",
       "      <th>0</th>\n",
       "      <td>78.5</td>\n",
       "      <td>67.0</td>\n",
       "      <td>75.43</td>\n",
       "      <td>4</td>\n",
       "      <td>1</td>\n",
       "      <td>73.2</td>\n",
       "    </tr>\n",
       "    <tr>\n",
       "      <th>1</th>\n",
       "      <td>78.5</td>\n",
       "      <td>67.0</td>\n",
       "      <td>75.43</td>\n",
       "      <td>4</td>\n",
       "      <td>0</td>\n",
       "      <td>69.2</td>\n",
       "    </tr>\n",
       "    <tr>\n",
       "      <th>2</th>\n",
       "      <td>78.5</td>\n",
       "      <td>67.0</td>\n",
       "      <td>75.43</td>\n",
       "      <td>4</td>\n",
       "      <td>0</td>\n",
       "      <td>69.0</td>\n",
       "    </tr>\n",
       "    <tr>\n",
       "      <th>3</th>\n",
       "      <td>78.5</td>\n",
       "      <td>67.0</td>\n",
       "      <td>75.43</td>\n",
       "      <td>4</td>\n",
       "      <td>0</td>\n",
       "      <td>69.0</td>\n",
       "    </tr>\n",
       "    <tr>\n",
       "      <th>4</th>\n",
       "      <td>75.5</td>\n",
       "      <td>66.5</td>\n",
       "      <td>73.66</td>\n",
       "      <td>4</td>\n",
       "      <td>1</td>\n",
       "      <td>73.5</td>\n",
       "    </tr>\n",
       "  </tbody>\n",
       "</table>\n",
       "</div>"
      ],
      "text/plain": [
       "   father  mother  midparentHeight  children  gender  childHeight\n",
       "0    78.5    67.0            75.43         4       1         73.2\n",
       "1    78.5    67.0            75.43         4       0         69.2\n",
       "2    78.5    67.0            75.43         4       0         69.0\n",
       "3    78.5    67.0            75.43         4       0         69.0\n",
       "4    75.5    66.5            73.66         4       1         73.5"
      ]
     },
     "execution_count": 18,
     "metadata": {},
     "output_type": "execute_result"
    }
   ],
   "source": [
    "data_cleaned = data.drop(columns=['rownames', 'family', 'childNum'])\n",
    "data_cleaned['gender'] = data_cleaned['gender'].map({'male': 1, 'female': 0})\n",
    "data_cleaned.head()"
   ]
  },
  {
   "cell_type": "code",
   "execution_count": 19,
   "metadata": {},
   "outputs": [],
   "source": [
    "X = data_cleaned[['father', 'mother']]\n",
    "y = data_cleaned['childHeight']"
   ]
  },
  {
   "cell_type": "code",
   "execution_count": 20,
   "metadata": {},
   "outputs": [],
   "source": [
    "# Chia dữ liệu thành tập huấn luyện và tập kiểm tra với tỷ lệ 80/20\n",
    "X_train, X_test, y_train, y_test = train_test_split(X, y, test_size=0.2, random_state=42)"
   ]
  },
  {
   "cell_type": "markdown",
   "metadata": {},
   "source": [
    "## mô hình hồi quy tuyến tính"
   ]
  },
  {
   "cell_type": "code",
   "execution_count": 21,
   "metadata": {},
   "outputs": [],
   "source": [
    "# Tạo mô hình hồi quy tuyến tính\n",
    "lr = LinearRegression()\n",
    "lr.fit(X_train, y_train)\n",
    "\n",
    "# Dự đoán trên tập kiểm tra\n",
    "y_pred_lr = lr.predict(X_test)"
   ]
  },
  {
   "cell_type": "code",
   "execution_count": 22,
   "metadata": {},
   "outputs": [
    {
     "data": {
      "image/png": "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",
      "text/plain": [
       "<Figure size 640x480 with 1 Axes>"
      ]
     },
     "metadata": {},
     "output_type": "display_data"
    }
   ],
   "source": [
    "plt.scatter(y_test, y_pred_lr)\n",
    "plt.plot([y_test.min(), y_test.max()], [y_test.min(), y_test.max()], color='red')\n",
    "plt.xlabel(\"Giá trị thực\")\n",
    "plt.ylabel(\"Giá trị dự đoán\")\n",
    "plt.title(\"Linear Regression\")\n",
    "plt.show()"
   ]
  },
  {
   "cell_type": "code",
   "execution_count": 23,
   "metadata": {},
   "outputs": [
    {
     "data": {
      "image/png": "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",
      "text/plain": [
       "<Figure size 640x480 with 1 Axes>"
      ]
     },
     "metadata": {},
     "output_type": "display_data"
    }
   
   
  },
  {
   "cell_type": "code",
   "execution_count": 24,
   "metadata": {},
   "outputs": [
    {
     "name": "stdout",
     "output_type": "stream",
     "text": [
      "--- Linear Regression ---\n",
      "MSE: 10.7443\n",
      "R^2: 0.0982\n",
      "RMSE: 3.2778\n",
      "\n",
      "     Thực tế    Dự đoán\n",
      "321     65.5  67.060069\n",
      "70      72.7  69.477979\n",
      "209     70.0  67.182312\n",
      "549     69.5  66.049923\n",
      "711     64.0  64.917534\n"
     ]
    }
   ],
   "source": [
    "joblib.dump(lr, 'lr_model.pkl')\n",
    "def evaluate_model(y_test, y_pred, model_name):\n",
    "    r2 = r2_score(y_test, y_pred)\n",
    "    mse = mean_squared_error(y_test, y_pred)\n",
    "    rmse = np.sqrt(mean_squared_error(y_test, y_pred))\n",
    "\n",
    "    \n",
    "    print(f\"--- {model_name} ---\")\n",
    "    print(f\"MSE: {mse:.4f}\")\n",
    "    print(f\"R^2: {r2:.4f}\")\n",
    "    print(f\"RMSE: {rmse:.4f}\")\n",
    "    print()\n",
    "evaluate_model(y_test, y_pred_lr, \"Linear Regression\") \n",
    "\n",
    "comparison = pd.DataFrame({'Thực tế': y_test, 'Dự đoán': y_pred_lr})\n",
    "print(comparison.head(5))"
   ]
  },
  {
   "cell_type": "markdown",
   "metadata": {},
   "source": [
    "## mô hình hồi quy Ridge"
   ]
  },
  {
   "cell_type": "code",
   "execution_count": 25,
   "metadata": {},
   "outputs": [],
   "source": [
    "ridge = Ridge(alpha=1.0)\n",
    "ridge.fit(X_train, y_train)\n",
    "y_pred_ridge = ridge.predict(X_test)\n"
   ]
  },
  {
   "cell_type": "code",
   "execution_count": 26,
   "metadata": {},
   "outputs": [
    {
     "name": "stdout",
     "output_type": "stream",
     "text": [
      "--- Ridge Regression ---\n",
      "MSE: 10.7442\n",
      "R^2: 0.0982\n",
      "RMSE: 3.2778\n",
      "\n",
      "     Thực tế    Dự đoán\n",
      "321     65.5  67.060009\n",
      "70      72.7  69.477366\n",
      "209     70.0  67.182233\n",
      "549     69.5  66.050101\n",
      "711     64.0  64.917968\n"
     ]
    }
   ],
   "source": [
    "joblib.dump(ridge, 'ridge_model.pkl')\n",
    "def evaluate_model(y_test, y_pred, model_name):\n",
    "    r2 = r2_score(y_test, y_pred)\n",
    "    mse = mean_squared_error(y_test, y_pred)\n",
    "    rmse = np.sqrt(mean_squared_error(y_test, y_pred))\n",
    "\n",
    "    \n",
    "    print(f\"--- {model_name} ---\")\n",
    "    print(f\"MSE: {mse:.4f}\")\n",
    "    print(f\"R^2: {r2:.4f}\")\n",
    "    print(f\"RMSE: {rmse:.4f}\")\n",
    "    print()\n",
    "evaluate_model(y_test, y_pred_ridge, \"Ridge Regression\")\n",
    "\n",
    "comparison = pd.DataFrame({'Thực tế': y_test, 'Dự đoán': y_pred_ridge})\n",
    "print(comparison.head(5))"
   ]
  },
  {
   "cell_type": "markdown",
   "metadata": {},
   "source": [
    "## mô hình Neural Network"
   ]
  },
  {
   "cell_type": "code",
   "execution_count": 27,
   "metadata": {},
   "outputs": [],
   "source": [
    "mlp = MLPRegressor(hidden_layer_sizes=(64, 64), activation='relu', max_iter=1000, random_state=42)\n",
    "mlp.fit(X_train, y_train)\n",
    "joblib.dump(mlp,'MLP.pkl')\n",
    "y_pred_neural = mlp.predict(X_test)"
   ]
  },
  {
   "cell_type": "code",
   "execution_count": 28,
   "metadata": {},
   "outputs": [
    {
     "name": "stdout",
     "output_type": "stream",
     "text": [
      "--- Neural Network ---\n",
      "MSE: 11.0873\n",
      "R^2: 0.0695\n",
      "RMSE: 3.3298\n",
      "\n",
      "     Thực tế    Dự đoán\n",
      "321     65.5  67.162026\n",
      "70      72.7  70.986350\n",
      "209     70.0  67.179265\n",
      "549     69.5  65.436234\n",
      "711     64.0  63.693204\n"
     ]
    }
   ],
   "source": [
    "def evaluate_model(y_test, y_pred, model_name):\n",
    "    r2 = r2_score(y_test, y_pred)\n",
    "    mse = mean_squared_error(y_test, y_pred)\n",
    "    rmse = np.sqrt(mean_squared_error(y_test, y_pred))\n",
    "\n",
    "    \n",
    "    print(f\"--- {model_name} ---\")\n",
    "    print(f\"MSE: {mse:.4f}\")\n",
    "    print(f\"R^2: {r2:.4f}\")\n",
    "    print(f\"RMSE: {rmse:.4f}\")\n",
    "    print()\n",
    "    \n",
    "evaluate_model(y_test, y_pred_neural, \"Neural Network\")\n",
    "\n",
    "comparison = pd.DataFrame({'Thực tế': y_test, 'Dự đoán': y_pred_neural})\n",
    "print(comparison.head(5))"
   ]
  },
  {
   "cell_type": "code",
   "execution_count": 29,
   "metadata": {},
   "outputs": [
    {
     "name": "stdout",
     "output_type": "stream",
     "text": [
      "--- Stacking ---\n",
      "MSE: 10.8830\n",
      "R^2: 0.0866\n",
      "RMSE: 3.2989\n",
      "\n",
      "     Thực tế    Dự đoán\n",
      "321     65.5  66.884161\n",
      "70      72.7  68.239189\n",
      "209     70.0  66.905274\n",
      "549     69.5  66.283594\n",
      "711     64.0  65.661914\n"
     ]
    }
   ],
   "source": [
    "base_models = [\n",
    "    ('linear', lr),\n",
    "    ('neural', mlp),\n",
    "    ('ridge', ridge)\n",
    "]\n",
    "stacking_model = StackingRegressor(estimators=base_models, final_estimator=LinearRegression())\n",
    "\n",
    "stacking_model.fit(X_train, y_train)\n",
    "\n",
    "y_pred_stacking = stacking_model.predict(X_test)\n",
    "joblib.dump(stacking_model,'Stacking.pkl')\n",
    "# Đánh giá mô hình stacking\n",
    "evaluate_model(y_test, y_pred_stacking, \"Stacking\")\n",
    "\n",
    "comparison = pd.DataFrame({'Thực tế': y_test, 'Dự đoán': y_pred_stacking})\n",
    "print(comparison.head(5))"
   ]
  },
  {
   "cell_type": "code",
   "execution_count": 30,
   "metadata": {},
   "outputs": [
    {
     "name": "stdout",
     "output_type": "stream",
     "text": [
      "--- Linear Regression (Cross-validation R^2 scores) ---\n",
      "[ 0.03399506 -0.01166372  0.01061718  0.07403839 -0.04093687]\n",
      "Mean R^2: 0.0132\n",
      "\n",
      "--- Neural Network (Cross-validation R^2 scores) ---\n",
      "[ 0.03249062 -0.04557861 -0.03327655  0.09735627 -0.09816127]\n",
      "Mean R^2: -0.0094\n",
      "\n",
      "--- Ridge Regression (Cross-validation R^2 scores) ---\n",
      "[ 0.03396578 -0.01165341  0.01062386  0.0740254  -0.04094932]\n",
      "Mean R^2: 0.0132\n",
      "\n",
      "--- Stacking (Cross-validation R^2 scores) ---\n",
      "[-0.11072918 -0.00656156  0.00463553  0.00382565 -0.10402369]\n",
      "Mean R^2: -0.0426\n",
      "\n"
     ]
    }
   ],
   "source": [
    "from sklearn.model_selection import cross_val_score\n",
    "\n",
    "\n",
    "def evaluate_model_cv(model, X, y, model_name):\n",
    "    scores = cross_val_score(model, X, y, cv=5, scoring='r2')\n",
    "    print(f\"--- {model_name} (Cross-validation R^2 scores) ---\")\n",
    "    print(scores)\n",
    "    print(f\"Mean R^2: {np.mean(scores):.4f}\\n\")\n",
    "\n",
    "# Đánh giá cross-validation cho các mô hình\n",
    "evaluate_model_cv(lr, X, y, \"Linear Regression\")\n",
    "evaluate_model_cv(mlp, X, y, \"Neural Network\")\n",
    "evaluate_model_cv(ridge, X, y, \"Ridge Regression\")\n",
    "evaluate_model_cv(stacking_model, X, y, \"Stacking\")"
   ]
  }
 ],
 "metadata": {
  "kernelspec": {
   "display_name": ".venv",
   "language": "python",
   "name": "python3"
  },
  "language_info": {
   "codemirror_mode": {
    "name": "ipython",
    "version": 3
   },
   "file_extension": ".py",
   "mimetype": "text/x-python",
   "name": "python",
   "nbconvert_exporter": "python",
   "pygments_lexer": "ipython3",
   "version": "3.11.9"
  }
 },
 "nbformat": 4,
 "nbformat_minor": 2
}
